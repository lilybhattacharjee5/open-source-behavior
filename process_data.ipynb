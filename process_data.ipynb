{
 "cells": [
  {
   "cell_type": "code",
   "execution_count": 89,
   "metadata": {},
   "outputs": [],
   "source": [
    "import pandas as pd\n",
    "import ast\n",
    "import numpy as np\n",
    "import json"
   ]
  },
  {
   "cell_type": "code",
   "execution_count": 90,
   "metadata": {},
   "outputs": [
    {
     "data": {
      "text/html": [
       "<div>\n",
       "<style scoped>\n",
       "    .dataframe tbody tr th:only-of-type {\n",
       "        vertical-align: middle;\n",
       "    }\n",
       "\n",
       "    .dataframe tbody tr th {\n",
       "        vertical-align: top;\n",
       "    }\n",
       "\n",
       "    .dataframe thead th {\n",
       "        text-align: right;\n",
       "    }\n",
       "</style>\n",
       "<table border=\"1\" class=\"dataframe\">\n",
       "  <thead>\n",
       "    <tr style=\"text-align: right;\">\n",
       "      <th></th>\n",
       "      <th>Project</th>\n",
       "      <th>Url</th>\n",
       "      <th>Number of watchers</th>\n",
       "      <th>Number of forks</th>\n",
       "      <th>Number of issues</th>\n",
       "      <th>Number of pull requests</th>\n",
       "      <th>Number of commits</th>\n",
       "      <th>Fork urls</th>\n",
       "    </tr>\n",
       "  </thead>\n",
       "  <tbody>\n",
       "    <tr>\n",
       "      <th>0</th>\n",
       "      <td>MvvmCross</td>\n",
       "      <td>https://github.com/MvvmCross/MvvmCross/</td>\n",
       "      <td>272.0</td>\n",
       "      <td>1256</td>\n",
       "      <td>228.0</td>\n",
       "      <td>29.0</td>\n",
       "      <td>9185.0</td>\n",
       "      <td>['https://github.com/MvvmCross/MvvmCross', 'ht...</td>\n",
       "    </tr>\n",
       "    <tr>\n",
       "      <th>1</th>\n",
       "      <td>RawCMS</td>\n",
       "      <td>https://github.com/arduosoft/RawCMS/</td>\n",
       "      <td>12.0</td>\n",
       "      <td>58</td>\n",
       "      <td>32.0</td>\n",
       "      <td>5.0</td>\n",
       "      <td>745.0</td>\n",
       "      <td>['https://github.com/arduosoft/RawCMS', 'https...</td>\n",
       "    </tr>\n",
       "    <tr>\n",
       "      <th>2</th>\n",
       "      <td>Shouldly</td>\n",
       "      <td>https://github.com/shouldly/shouldly/</td>\n",
       "      <td>65.0</td>\n",
       "      <td>353</td>\n",
       "      <td>30.0</td>\n",
       "      <td>3.0</td>\n",
       "      <td>1211.0</td>\n",
       "      <td>['https://github.com/shouldly/shouldly', 'http...</td>\n",
       "    </tr>\n",
       "    <tr>\n",
       "      <th>3</th>\n",
       "      <td>Neovim</td>\n",
       "      <td>https://github.com/neovim/neovim/</td>\n",
       "      <td>1000.0</td>\n",
       "      <td>3042</td>\n",
       "      <td>1.0</td>\n",
       "      <td>304.0</td>\n",
       "      <td>16999.0</td>\n",
       "      <td>['https://github.com/neovim/neovim', 'https://...</td>\n",
       "    </tr>\n",
       "    <tr>\n",
       "      <th>4</th>\n",
       "      <td>grok.net</td>\n",
       "      <td>https://github.com/Marusyk/grok.net/</td>\n",
       "      <td>3.0</td>\n",
       "      <td>8</td>\n",
       "      <td>1.0</td>\n",
       "      <td>NaN</td>\n",
       "      <td>32.0</td>\n",
       "      <td>['https://github.com/Marusyk/grok.net', 'https...</td>\n",
       "    </tr>\n",
       "  </tbody>\n",
       "</table>\n",
       "</div>"
      ],
      "text/plain": [
       "     Project                                      Url  Number of watchers  \\\n",
       "0  MvvmCross  https://github.com/MvvmCross/MvvmCross/               272.0   \n",
       "1     RawCMS     https://github.com/arduosoft/RawCMS/                12.0   \n",
       "2   Shouldly    https://github.com/shouldly/shouldly/                65.0   \n",
       "3     Neovim        https://github.com/neovim/neovim/              1000.0   \n",
       "4   grok.net     https://github.com/Marusyk/grok.net/                 3.0   \n",
       "\n",
       "   Number of forks  Number of issues  Number of pull requests  \\\n",
       "0             1256             228.0                     29.0   \n",
       "1               58              32.0                      5.0   \n",
       "2              353              30.0                      3.0   \n",
       "3             3042               1.0                    304.0   \n",
       "4                8               1.0                      NaN   \n",
       "\n",
       "   Number of commits                                          Fork urls  \n",
       "0             9185.0  ['https://github.com/MvvmCross/MvvmCross', 'ht...  \n",
       "1              745.0  ['https://github.com/arduosoft/RawCMS', 'https...  \n",
       "2             1211.0  ['https://github.com/shouldly/shouldly', 'http...  \n",
       "3            16999.0  ['https://github.com/neovim/neovim', 'https://...  \n",
       "4               32.0  ['https://github.com/Marusyk/grok.net', 'https...  "
      ]
     },
     "execution_count": 90,
     "metadata": {},
     "output_type": "execute_result"
    }
   ],
   "source": [
    "proj_git_summary = pd.read_csv('awesome_proj_data_github.csv').drop(columns = ['Unnamed: 0']).drop_duplicates(subset = 'Project', keep = 'last')\n",
    "proj_git_summary.head()"
   ]
  },
  {
   "cell_type": "code",
   "execution_count": 91,
   "metadata": {},
   "outputs": [
    {
     "data": {
      "text/plain": [
       "(208, 8)"
      ]
     },
     "execution_count": 91,
     "metadata": {},
     "output_type": "execute_result"
    }
   ],
   "source": [
    "proj_git_summary.shape"
   ]
  },
  {
   "cell_type": "code",
   "execution_count": 92,
   "metadata": {},
   "outputs": [
    {
     "data": {
      "text/html": [
       "<div>\n",
       "<style scoped>\n",
       "    .dataframe tbody tr th:only-of-type {\n",
       "        vertical-align: middle;\n",
       "    }\n",
       "\n",
       "    .dataframe tbody tr th {\n",
       "        vertical-align: top;\n",
       "    }\n",
       "\n",
       "    .dataframe thead th {\n",
       "        text-align: right;\n",
       "    }\n",
       "</style>\n",
       "<table border=\"1\" class=\"dataframe\">\n",
       "  <thead>\n",
       "    <tr style=\"text-align: right;\">\n",
       "      <th></th>\n",
       "      <th>Project</th>\n",
       "      <th>Contributors</th>\n",
       "    </tr>\n",
       "  </thead>\n",
       "  <tbody>\n",
       "    <tr>\n",
       "      <th>0</th>\n",
       "      <td>MvvmCross</td>\n",
       "      <td>['slodge', 'martijn00', 'Cheesebaron', 'nmilco...</td>\n",
       "    </tr>\n",
       "    <tr>\n",
       "      <th>1</th>\n",
       "      <td>RawCMS</td>\n",
       "      <td>['marcuson', 'zeppaman', 'keggyy', 'girardengo...</td>\n",
       "    </tr>\n",
       "    <tr>\n",
       "      <th>2</th>\n",
       "      <td>Shouldly</td>\n",
       "      <td>['JakeGinnivan', 'SimonCropp', 'JosephWoodward...</td>\n",
       "    </tr>\n",
       "    <tr>\n",
       "      <th>3</th>\n",
       "      <td>Neovim</td>\n",
       "      <td>['justinmk', 'janlazo', 'ZyX-I', 'tarruda', 'j...</td>\n",
       "    </tr>\n",
       "    <tr>\n",
       "      <th>4</th>\n",
       "      <td>grok.net</td>\n",
       "      <td>['Marusyk', 'Marusyk', 'Justin-Lloyd', 'iBlack...</td>\n",
       "    </tr>\n",
       "  </tbody>\n",
       "</table>\n",
       "</div>"
      ],
      "text/plain": [
       "     Project                                       Contributors\n",
       "0  MvvmCross  ['slodge', 'martijn00', 'Cheesebaron', 'nmilco...\n",
       "1     RawCMS  ['marcuson', 'zeppaman', 'keggyy', 'girardengo...\n",
       "2   Shouldly  ['JakeGinnivan', 'SimonCropp', 'JosephWoodward...\n",
       "3     Neovim  ['justinmk', 'janlazo', 'ZyX-I', 'tarruda', 'j...\n",
       "4   grok.net  ['Marusyk', 'Marusyk', 'Justin-Lloyd', 'iBlack..."
      ]
     },
     "execution_count": 92,
     "metadata": {},
     "output_type": "execute_result"
    }
   ],
   "source": [
    "# grab contributor data -- are there any similarities?\n",
    "contributors = pd.read_csv('awesome_proj_data_contributors.csv').drop(columns = ['Unnamed: 0']).append(pd.read_csv('awesome_proj_data_contributors_rescrape.csv').drop(columns = ['Unnamed: 0'])).append(pd.read_csv('awesome_proj_data_contributors_rescrape2.csv').drop(columns = ['Unnamed: 0'])).drop_duplicates(subset = 'Project', keep = 'last')\n",
    "contributors.head()"
   ]
  },
  {
   "cell_type": "code",
   "execution_count": 93,
   "metadata": {},
   "outputs": [
    {
     "data": {
      "text/plain": [
       "[]"
      ]
     },
     "execution_count": 93,
     "metadata": {},
     "output_type": "execute_result"
    }
   ],
   "source": [
    "list(contributors.loc[contributors['Contributors'] == '[]']['Project'])"
   ]
  },
  {
   "cell_type": "code",
   "execution_count": 94,
   "metadata": {
    "scrolled": true
   },
   "outputs": [
    {
     "data": {
      "text/plain": [
       "['slodge',\n",
       " 'martijn00',\n",
       " 'Cheesebaron',\n",
       " 'nmilcoff',\n",
       " 'nickrandolph',\n",
       " 'MarcBruins',\n",
       " 'kjeremy',\n",
       " 'hollywoof',\n",
       " 'Plac3hold3r',\n",
       " 'tofutim',\n",
       " 'mvanbeusekom',\n",
       " 'lothrop',\n",
       " 'heytherewill',\n",
       " 'csteeg',\n",
       " 'Garfield550',\n",
       " 'thefex',\n",
       " 'guillaume-fr',\n",
       " 'vvolkgang',\n",
       " 'tbalcom',\n",
       " 'orzech85',\n",
       " 'andres-gimenez',\n",
       " 'jz5',\n",
       " 'LRP-sgravel',\n",
       " 'stoneman',\n",
       " 'andyci',\n",
       " 'spockfish',\n",
       " 'danielcweber',\n",
       " 'Dexyon',\n",
       " 'biozal',\n",
       " 'jamie94bc',\n",
       " 'ehuna',\n",
       " 'b099l3',\n",
       " 'PeterBurke',\n",
       " 'MartinZikmund',\n",
       " 'steveydee82',\n",
       " 'nschoenberg',\n",
       " 'johnnywebb',\n",
       " 'fedemkr',\n",
       " 'Bowman74',\n",
       " 'softlion',\n",
       " 'felixfxu',\n",
       " 'Stephanvs',\n",
       " 'IlSocio',\n",
       " 'AbdelrahmanGIT',\n",
       " 'tritter',\n",
       " 'prin53',\n",
       " 'mellson',\n",
       " 'markuspalme',\n",
       " 'jamsoft',\n",
       " 'dbeattie71',\n",
       " 'gentledepp',\n",
       " 'Prandtl',\n",
       " 'MKuckert',\n",
       " 'Laumania',\n",
       " 'Giorgi',\n",
       " 'DaRosenberg',\n",
       " 'vatsalyagoel',\n",
       " 'mgjhl',\n",
       " 'ddunkin',\n",
       " 'danzel',\n",
       " 'Strifex',\n",
       " 'ShawInnes',\n",
       " 'RayMMond',\n",
       " 'sdebruyn',\n",
       " 'jimbobbennett',\n",
       " 'geirsagberg',\n",
       " 'PelleRavn',\n",
       " 'Hackmodford',\n",
       " 'AnthonyNjuguna',\n",
       " 'tomcurran',\n",
       " 'mattwhetton',\n",
       " 'benschi11',\n",
       " 'asterixorobelix',\n",
       " 'andrewtechhelp',\n",
       " 'Saratsin',\n",
       " 'Daniel-Krzyczkowski',\n",
       " 'usami-k',\n",
       " 'toolboc',\n",
       " 'roubachof',\n",
       " 'molinch',\n",
       " 'mauricemarkvoort',\n",
       " 'hlogmans',\n",
       " 'gshackles',\n",
       " 'duglah',\n",
       " 'drungrin',\n",
       " 'chrilith',\n",
       " 'benhysell',\n",
       " 'SeanCross',\n",
       " 'Dragon160',\n",
       " 'nosami',\n",
       " 'mterwoord',\n",
       " 'mikopresens',\n",
       " 'mgochmuradov',\n",
       " 'mashbrno',\n",
       " 'konabe',\n",
       " 'dogukandemir',\n",
       " 'daividssilverio',\n",
       " 'alexshikov',\n",
       " 'AlanYost']"
      ]
     },
     "execution_count": 94,
     "metadata": {},
     "output_type": "execute_result"
    }
   ],
   "source": [
    "contrib_list = [ast.literal_eval(i) for i in contributors['Contributors']]\n",
    "contrib_list[0]"
   ]
  },
  {
   "cell_type": "code",
   "execution_count": 95,
   "metadata": {},
   "outputs": [],
   "source": [
    "count_i = 0\n",
    "intersections = []\n",
    "for i in contrib_list:\n",
    "    count_j = 0\n",
    "    proj_i = str(contributors.iloc[count_i]['Project'])\n",
    "    for j in contrib_list[count_i + 1:]:\n",
    "        proj_j = str(contributors.iloc[count_j]['Project'])\n",
    "        intersect = list(set(i) & set(j))\n",
    "        if len(intersect) > 0:\n",
    "            intersections.append((proj_i, proj_j, intersect))\n",
    "        count_j += 1\n",
    "    count_i += 1"
   ]
  },
  {
   "cell_type": "code",
   "execution_count": 96,
   "metadata": {},
   "outputs": [
    {
     "data": {
      "text/plain": [
       "1348"
      ]
     },
     "execution_count": 96,
     "metadata": {},
     "output_type": "execute_result"
    }
   ],
   "source": [
    "len(intersections)"
   ]
  },
  {
   "cell_type": "code",
   "execution_count": 97,
   "metadata": {},
   "outputs": [
    {
     "data": {
      "text/plain": [
       "43056"
      ]
     },
     "execution_count": 97,
     "metadata": {},
     "output_type": "execute_result"
    }
   ],
   "source": [
    "len(contrib_list) * (len(contrib_list) - 1)"
   ]
  },
  {
   "cell_type": "code",
   "execution_count": 98,
   "metadata": {},
   "outputs": [
    {
     "data": {
      "text/plain": [
       "0.03130806391675957"
      ]
     },
     "execution_count": 98,
     "metadata": {},
     "output_type": "execute_result"
    }
   ],
   "source": [
    "1348/43056"
   ]
  },
  {
   "cell_type": "code",
   "execution_count": 99,
   "metadata": {},
   "outputs": [
    {
     "data": {
      "text/plain": [
       "('MvvmCross', 'osu!', ['MartinZikmund'])"
      ]
     },
     "execution_count": 99,
     "metadata": {},
     "output_type": "execute_result"
    }
   ],
   "source": [
    "intersections[0]"
   ]
  },
  {
   "cell_type": "code",
   "execution_count": 100,
   "metadata": {},
   "outputs": [
    {
     "name": "stdout",
     "output_type": "stream",
     "text": [
      "[{'id': 'MvvmCross', 'watchers': 272, 'forks': 1256, 'issues': 228, 'prs': 29, 'commits': 9185}, {'id': 'RawCMS', 'watchers': 12, 'forks': 58, 'issues': 32, 'prs': 5, 'commits': 745}, {'id': 'Shouldly', 'watchers': 65, 'forks': 353, 'issues': 30, 'prs': 3, 'commits': 1211}, {'id': 'Neovim', 'watchers': 1000, 'forks': 3042, 'issues': 1, 'prs': 304, 'commits': 16999}, {'id': 'grok.net', 'watchers': 3, 'forks': 8, 'issues': 1, 'prs': 0, 'commits': 32}]\n",
      "[{'source': 'MvvmCross', 'target': 'osu!', 'value': 1}, {'source': 'MvvmCross', 'target': 'Helm', 'value': 1}, {'source': 'MvvmCross', 'target': 'PouchDB', 'value': 1}, {'source': 'MvvmCross', 'target': 'Yarn', 'value': 1}, {'source': 'RawCMS', 'target': 'MvvmCross', 'value': 1}]\n"
     ]
    }
   ],
   "source": [
    "nodes = []\n",
    "links = []\n",
    "\n",
    "has_link = {}\n",
    "no_link = []\n",
    "for i in intersections:\n",
    "    new_link = {\n",
    "        'source': i[0],\n",
    "        'target': i[1],\n",
    "        'value': len(i[2])\n",
    "    }\n",
    "    has_link[i[0]] = 1\n",
    "    has_link[i[1]] = 1\n",
    "    links.append(new_link)\n",
    "    \n",
    "for index, row in proj_git_summary.iterrows():\n",
    "    new_node_id = row['Project']\n",
    "    new_node_watchers = 0 if np.isnan(row['Number of watchers']) else int(row['Number of watchers'])\n",
    "    new_node_forks = int(row['Number of forks'])\n",
    "    new_node_issues = 0 if np.isnan(row['Number of issues']) else int(row['Number of issues'])\n",
    "    new_node_prs = 0 if np.isnan(row['Number of pull requests']) else int(row['Number of pull requests'])\n",
    "    new_node_commits = 0 if np.isnan(row['Number of commits']) else int(row['Number of commits'])\n",
    "    new_node = {\n",
    "        'id': new_node_id,\n",
    "        'watchers': new_node_watchers,\n",
    "        'forks': new_node_forks,\n",
    "        'issues': new_node_issues,\n",
    "        'prs': new_node_prs,\n",
    "        'commits': new_node_commits\n",
    "    }\n",
    "    nodes.append(new_node)\n",
    "    \n",
    "    # handle nodes with no intersections\n",
    "    if new_node_id not in has_link:\n",
    "        no_link.append(new_node_id)\n",
    "    \n",
    "print(nodes[:5])\n",
    "print(links[:5])"
   ]
  },
  {
   "cell_type": "code",
   "execution_count": 101,
   "metadata": {},
   "outputs": [
    {
     "data": {
      "text/plain": [
       "['SirixDB',\n",
       " 'Symfony',\n",
       " 'PrestaShop',\n",
       " 'pandas',\n",
       " 'ArviZ',\n",
       " 'PublicLab.org',\n",
       " 'open-build-service',\n",
       " 'Matestack',\n",
       " 'TypeScript',\n",
       " 'reatom',\n",
       " 'Booster']"
      ]
     },
     "execution_count": 101,
     "metadata": {},
     "output_type": "execute_result"
    }
   ],
   "source": [
    "no_link"
   ]
  },
  {
   "cell_type": "code",
   "execution_count": 102,
   "metadata": {},
   "outputs": [
    {
     "name": "stdout",
     "output_type": "stream",
     "text": [
      "{'source': 'SirixDB', 'target': 'Symfony', 'value': 0}\n",
      "{'source': 'SirixDB', 'target': 'PrestaShop', 'value': 0}\n",
      "{'source': 'SirixDB', 'target': 'pandas', 'value': 0}\n",
      "{'source': 'SirixDB', 'target': 'ArviZ', 'value': 0}\n",
      "{'source': 'SirixDB', 'target': 'PublicLab.org', 'value': 0}\n",
      "{'source': 'SirixDB', 'target': 'open-build-service', 'value': 0}\n",
      "{'source': 'SirixDB', 'target': 'Matestack', 'value': 0}\n",
      "{'source': 'SirixDB', 'target': 'TypeScript', 'value': 0}\n",
      "{'source': 'SirixDB', 'target': 'reatom', 'value': 0}\n",
      "{'source': 'SirixDB', 'target': 'Booster', 'value': 0}\n",
      "{'source': 'Symfony', 'target': 'PrestaShop', 'value': 0}\n",
      "{'source': 'Symfony', 'target': 'pandas', 'value': 0}\n",
      "{'source': 'Symfony', 'target': 'ArviZ', 'value': 0}\n",
      "{'source': 'Symfony', 'target': 'PublicLab.org', 'value': 0}\n",
      "{'source': 'Symfony', 'target': 'open-build-service', 'value': 0}\n",
      "{'source': 'Symfony', 'target': 'Matestack', 'value': 0}\n",
      "{'source': 'Symfony', 'target': 'TypeScript', 'value': 0}\n",
      "{'source': 'Symfony', 'target': 'reatom', 'value': 0}\n",
      "{'source': 'Symfony', 'target': 'Booster', 'value': 0}\n",
      "{'source': 'PrestaShop', 'target': 'pandas', 'value': 0}\n",
      "{'source': 'PrestaShop', 'target': 'ArviZ', 'value': 0}\n",
      "{'source': 'PrestaShop', 'target': 'PublicLab.org', 'value': 0}\n",
      "{'source': 'PrestaShop', 'target': 'open-build-service', 'value': 0}\n",
      "{'source': 'PrestaShop', 'target': 'Matestack', 'value': 0}\n",
      "{'source': 'PrestaShop', 'target': 'TypeScript', 'value': 0}\n",
      "{'source': 'PrestaShop', 'target': 'reatom', 'value': 0}\n",
      "{'source': 'PrestaShop', 'target': 'Booster', 'value': 0}\n",
      "{'source': 'pandas', 'target': 'ArviZ', 'value': 0}\n",
      "{'source': 'pandas', 'target': 'PublicLab.org', 'value': 0}\n",
      "{'source': 'pandas', 'target': 'open-build-service', 'value': 0}\n",
      "{'source': 'pandas', 'target': 'Matestack', 'value': 0}\n",
      "{'source': 'pandas', 'target': 'TypeScript', 'value': 0}\n",
      "{'source': 'pandas', 'target': 'reatom', 'value': 0}\n",
      "{'source': 'pandas', 'target': 'Booster', 'value': 0}\n",
      "{'source': 'ArviZ', 'target': 'PublicLab.org', 'value': 0}\n",
      "{'source': 'ArviZ', 'target': 'open-build-service', 'value': 0}\n",
      "{'source': 'ArviZ', 'target': 'Matestack', 'value': 0}\n",
      "{'source': 'ArviZ', 'target': 'TypeScript', 'value': 0}\n",
      "{'source': 'ArviZ', 'target': 'reatom', 'value': 0}\n",
      "{'source': 'ArviZ', 'target': 'Booster', 'value': 0}\n",
      "{'source': 'PublicLab.org', 'target': 'open-build-service', 'value': 0}\n",
      "{'source': 'PublicLab.org', 'target': 'Matestack', 'value': 0}\n",
      "{'source': 'PublicLab.org', 'target': 'TypeScript', 'value': 0}\n",
      "{'source': 'PublicLab.org', 'target': 'reatom', 'value': 0}\n",
      "{'source': 'PublicLab.org', 'target': 'Booster', 'value': 0}\n",
      "{'source': 'open-build-service', 'target': 'Matestack', 'value': 0}\n",
      "{'source': 'open-build-service', 'target': 'TypeScript', 'value': 0}\n",
      "{'source': 'open-build-service', 'target': 'reatom', 'value': 0}\n",
      "{'source': 'open-build-service', 'target': 'Booster', 'value': 0}\n",
      "{'source': 'Matestack', 'target': 'TypeScript', 'value': 0}\n",
      "{'source': 'Matestack', 'target': 'reatom', 'value': 0}\n",
      "{'source': 'Matestack', 'target': 'Booster', 'value': 0}\n",
      "{'source': 'TypeScript', 'target': 'reatom', 'value': 0}\n",
      "{'source': 'TypeScript', 'target': 'Booster', 'value': 0}\n",
      "{'source': 'reatom', 'target': 'Booster', 'value': 0}\n"
     ]
    }
   ],
   "source": [
    "# create min distance edges between each pair in no_link\n",
    "count = 0\n",
    "for i in no_link:\n",
    "    for j in no_link[count + 1:]:\n",
    "        new_link = {\n",
    "            'source': i,\n",
    "            'target': j,\n",
    "            'value': 0\n",
    "        }\n",
    "        links.append(new_link)\n",
    "        print(new_link)\n",
    "    count += 1"
   ]
  },
  {
   "cell_type": "code",
   "execution_count": 103,
   "metadata": {},
   "outputs": [],
   "source": [
    "data = {\n",
    "    'nodes': nodes,\n",
    "    'links': links\n",
    "}\n",
    "\n",
    "with open('summary_git_data.json', 'w', encoding='utf-8') as f:\n",
    "    json.dump(data, f, ensure_ascii = False, indent = 4)"
   ]
  },
  {
   "cell_type": "code",
   "execution_count": null,
   "metadata": {},
   "outputs": [],
   "source": []
  }
 ],
 "metadata": {
  "kernelspec": {
   "display_name": "Python 3",
   "language": "python",
   "name": "python3"
  },
  "language_info": {
   "codemirror_mode": {
    "name": "ipython",
    "version": 3
   },
   "file_extension": ".py",
   "mimetype": "text/x-python",
   "name": "python",
   "nbconvert_exporter": "python",
   "pygments_lexer": "ipython3",
   "version": "3.6.10"
  }
 },
 "nbformat": 4,
 "nbformat_minor": 4
}
